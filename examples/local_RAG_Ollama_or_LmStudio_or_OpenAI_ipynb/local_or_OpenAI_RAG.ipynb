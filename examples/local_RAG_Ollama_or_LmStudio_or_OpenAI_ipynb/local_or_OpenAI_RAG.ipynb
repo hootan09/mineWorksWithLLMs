{
 "cells": [
  {
   "cell_type": "markdown",
   "metadata": {},
   "source": [
    "# A simple RAG application using open-source models (Ollama/lmStudio) or OpenAI\n",
    "\n",
    "### Note: Given that the LmStudio API calls are designed to work with the OpenAI SDK, we’re able to integrate the OpenAI SDK into LmStudio"
   ]
  },
  {
   "cell_type": "code",
   "execution_count": 1,
   "metadata": {},
   "outputs": [],
   "source": [
    "# TYPE = \"Ollama\"\n",
    "# MODEL = \"gemma2:2b\"\n",
    "\n",
    "\n",
    "# TYPE = \"OpenAI\"\n",
    "# MODEL = \"gpt-3.5-turbo\"\n",
    "# OPENAI_KEY=\"\"\n",
    "\n",
    "\n",
    "TYPE= \"LmStudio\"\n",
    "# MODEL = \"gemma-3-4b-it\"\n",
    "MODEL = \"Dorna2-Llama3.1-8B-Instruct\"\n",
    "EMBED_MODEL = \"nomic-embed-text-v1.5\""
   ]
  },
  {
   "cell_type": "code",
   "execution_count": 2,
   "metadata": {},
   "outputs": [
    {
     "name": "stdout",
     "output_type": "stream",
     "text": [
      "content=\"Here's one:\\n\\nWhat do you call a fake noodle?\\n\\nAn impasta!\" additional_kwargs={'refusal': None} response_metadata={'token_usage': {'completion_tokens': 17, 'prompt_tokens': 14, 'total_tokens': 31, 'completion_tokens_details': None, 'prompt_tokens_details': None}, 'model_name': 'dorna2-llama3.1-8b-instruct', 'system_fingerprint': 'dorna2-llama3.1-8b-instruct', 'id': 'chatcmpl-vy4uia3982d2k09x4xitm9', 'finish_reason': 'stop', 'logprobs': None} id='run-cbacbd6b-6248-4100-acec-2d65ac7a6549-0' usage_metadata={'input_tokens': 14, 'output_tokens': 17, 'total_tokens': 31, 'input_token_details': {}, 'output_token_details': {}}\n"
     ]
    }
   ],
   "source": [
    "from langchain_community.llms import Ollama\n",
    "from langchain_community.embeddings import OllamaEmbeddings\n",
    "\n",
    "from langchain_openai.chat_models import ChatOpenAI\n",
    "from langchain_openai.embeddings import OpenAIEmbeddings\n",
    "from openai import OpenAI\n",
    "from typing import List\n",
    "\n",
    "if TYPE == \"OpenAI\":\n",
    "    model = ChatOpenAI(\n",
    "        openai_api_key=OPENAI_KEY,\n",
    "        model=MODEL\n",
    "    )\n",
    "    embeddings = OpenAIEmbeddings()\n",
    "elif TYPE == \"Ollama\":\n",
    "    model = Ollama(model=MODEL)\n",
    "    embeddings = OllamaEmbeddings(model=MODEL)\n",
    "elif TYPE == \"LmStudio\":\n",
    "    model = ChatOpenAI(\n",
    "        openai_api_key=\"lm-studio\",  # Can be any non-empty string for LM Studio\n",
    "        model=MODEL,\n",
    "        base_url=\"http://localhost:1234/v1\"  # Default LM Studio API endpoint\n",
    "    )\n",
    "\n",
    "    # Embeding for LmStudio\n",
    "    class LMSEmbeddingFunction:\n",
    "        def __init__(self):\n",
    "            self.client = OpenAI(\n",
    "                base_url=\"http://localhost:1234/v1\",\n",
    "                api_key=\"lm-studio\"\n",
    "            )\n",
    "        \n",
    "        def embed_documents(self, texts: List[str], model=EMBED_MODEL) -> List[List[float]]:\n",
    "            embeddings = self.client.embeddings.create(input=texts, model=model).data\n",
    "            return [e.embedding for e in embeddings]\n",
    "        \n",
    "        def embed_query(self, text: str, model=EMBED_MODEL) -> List[float]:\n",
    "            embedding = self.client.embeddings.create(input=[text], model=model).data[0].embedding\n",
    "            return embedding\n",
    "\n",
    "    # Create the embedding function\n",
    "    embeddings = LMSEmbeddingFunction()\n",
    "else:\n",
    "    raise ValueError(f\"Invalid Model Selection: {TYPE}\")\n",
    "\n",
    "# Only invoke if model is properly initialized\n",
    "if model is not None:\n",
    "    response = model.invoke(\"Tell me a joke\")\n",
    "    print(response)\n",
    "else:\n",
    "    print(\"Model not initialized\")"
   ]
  },
  {
   "cell_type": "code",
   "execution_count": 3,
   "metadata": {},
   "outputs": [
    {
     "data": {
      "text/plain": [
       "'Here\\'s one:\\n\\nA man walked into a library and asked the librarian, \"Do you have any books on Pavlov\\'s dogs and Schrödinger\\'s cat?\"\\n\\nThe librarian replied, \"It rings a bell, but I\\'m not sure if it\\'s here or not.\"'"
      ]
     },
     "execution_count": 3,
     "metadata": {},
     "output_type": "execute_result"
    }
   ],
   "source": [
    "from langchain_core.output_parsers import StrOutputParser\n",
    "\n",
    "parser = StrOutputParser()\n",
    "\n",
    "chain = model | parser \n",
    "chain.invoke(\"Tell me a joke\")"
   ]
  },
  {
   "cell_type": "code",
   "execution_count": 4,
   "metadata": {},
   "outputs": [
    {
     "data": {
      "text/plain": [
       "'\\nAnswer the question based on the context below. If you can\\'t \\nanswer the question, reply \"I don\\'t know\".\\n\\nContext: Here is some context\\n\\nQuestion: Here is a question\\n'"
      ]
     },
     "execution_count": 4,
     "metadata": {},
     "output_type": "execute_result"
    }
   ],
   "source": [
    "from langchain.prompts import PromptTemplate\n",
    "\n",
    "template = \"\"\"\n",
    "Answer the question based on the context below. If you can't \n",
    "answer the question, reply \"I don't know\".\n",
    "\n",
    "Context: {context}\n",
    "\n",
    "Question: {question}\n",
    "\"\"\"\n",
    "\n",
    "prompt = PromptTemplate.from_template(template)\n",
    "prompt.format(context=\"Here is some context\", question=\"Here is a question\")"
   ]
  },
  {
   "cell_type": "code",
   "execution_count": 5,
   "metadata": {},
   "outputs": [
    {
     "data": {
      "text/plain": [
       "'Santiago'"
      ]
     },
     "execution_count": 5,
     "metadata": {},
     "output_type": "execute_result"
    }
   ],
   "source": [
    "chain = prompt | model | parser\n",
    "\n",
    "chain.invoke({\"context\": \"My parents named me Santiago\", \"question\": \"What's your name'?\"})"
   ]
  },
  {
   "cell_type": "code",
   "execution_count": 6,
   "metadata": {},
   "outputs": [
    {
     "data": {
      "text/plain": [
       "[Document(metadata={'producer': 'cairo 1.18.0 (https://cairographics.org)', 'creator': 'Mozilla Firefox 136.0.2', 'creationdate': '2025-03-26T10:09:46+03:30', 'source': 'data\\\\NikiCV.pdf', 'total_pages': 2, 'page': 0, 'page_label': '1'}, page_content='M MO OH HA AM MM MA AD D  N NI IK KR RA AV VE ES SH H\\nB B. .S Sc c. .\\nC Co om mp pu ut te er r  S Sc ci ie en nc ce e\\nU Un ni iv ve er rs si it ty y  o of f  S Se em mn na an n\\n\\uf073 S Se ep p  2 20 01 12 2  - -  N No ov v  2 20 01 17 7\\n\\uf3c5 S Se em mn na an n, ,  I Ir ra an n\\nR Re el le ev va an nt t  C Co ou ur rs se es s\\n- Data Structures\\n- Algorithm Design\\n- Database Management Systems\\n- Computer Vision\\n- Software Design Methodology\\n• L Li in nu ux x  | |  D Do oc ck ke er r  | |  G Gi it t  , ,\\n• N No od de e. .j js s  | |  J Ja av va aS Sc cr ri ip pt t  , ,\\n• G Go oL La an ng g  , ,\\n• P Py yt th ho on n  , ,\\n• U Un ni it ty y3 3D D  ( (C C# #) )  , ,\\n• N No oS SQ QL L  | |  S SQ QL L  , ,\\n• C CI I/ /C CD D  | |  J Je en nk ki in ns s  , ,\\n• R Re ea ac ct t. .j js s  | |  N Ne ex xt t. .j js s  | |  A An ng gu ul laar rJ Js s  | |  H Hu ug go o  , ,\\n• R Re ea ac ct t  N Na at ti iv ve e  | |  I Io on ni ic c  , ,\\n• H HT TM ML L  | |  C CS SS S\\n\\uf0e0 hootan09@gmail.com\\n\\uf095 (+98) 935 957 8994\\n\\uf3c5 Tehran, Iran\\n\\uf0e1 linkedin.com/in/hootan09\\n\\uf09b github.com/hootan09\\n\\uf0ac NikiTv.ir\\nE ED DU UC CA AT TI IO ON N\\nS SK KI IL LL LS S\\n\\uf111 F Fr re ee el la an nc ce e  S So of ft tw wa ar re e  D De ev veel lo op pe er r \\ue55f \\ue55f\\n\\uf111 A A1 1P Pa ar ra ad di is se e \\ue55f \\ue55fT Te eh hr ra an n, ,  I Ir ra an n\\n\\uf111 G Ge er rm ma an n  L Ll lo oy yd d  ( (O Oi il l  I In nd du usst tr ry y) ) \\ue55f \\ue55fT Te eh hr ra an n, ,  I Ir ra an n\\n\\uf111 P Pe et ti ia ak k  ( (I IS SP P  P Pr ro ov vi id de er r) )\\ue55f \\ue55fT Te eh hr ra an n, ,  I Ir ra an n\\nAs a University of Semnan computer science graduate and current freelance developer, I live\\nand breathe software. As a back-end developer in several companies, I have implemented\\nreal-world industry best practices and turned client/customer concepts into workable\\nmodels.\\nP PE ER RS SO ON NA AL L  I IN NF FO O\\nW WO OR RK K  E EX XP PE ER RI IE EN NC CE E\\nB BA AC CK K- -E EN ND D  A AN ND D  F FR RO ON NTT- -E EN ND D  D DE EV VE EL LO OP PE ER RNov 2020 - Current\\n• Create personal projects with Golang.\\n• Develop personal React Native open source projects.\\n• Switched from WordPress to Hugo static site generator for my personal blog\\n(NikiTv.ir).\\n• Developed three Unity3D games with C# for mobile platforms.\\n• Created \"HorseBook\", a project with Node.js, Angular and Ionic that gives API to\\nmobile applications.\\n• Created personal blog Sample With Node.js and React.js, and ported to Nextjs that\\nsupports testing and linting for CI/CD.\\n• Designed \"KingStone\", a shopping website for clients/customers with Node.js,\\nMongoDB and Linux, that supports API & authentication (RESTful).\\n• Designed and developed this theme (Simple-CV) for creating free resumes & CV with\\nHugo.\\n• Implemented IOT PubSub projects with Mosquitto Broker, Docker Hub and Linux for\\ncontrolling devices in real-time .\\nNode.js GoLang C# JavaScript Linux ESXI Docker React Native MongoDB Git\\nHTML CSS\\nS SE EN NI IO OR R  S SO OF FT TW WA AR RE E  D DE EVVE EL LO OP PE ER R Jul 2019 - Nov 2020\\n• Developed and maintained React Native projects.\\n• Developed Node.js projects with Docker-Compose and MongoDB on Linux.\\n• Developed and Designed VOIP & WebRTC projects for calls services.\\n• Con�gured ESXI and servers for the company.\\n• Developed \"QuizApp\", an online matchmaking questions application with Node.js and\\nSocket.IO.\\nNode.js Linux ESXI Docker React Native MongoDB Git HTML CSS\\nS SO OF FT TW WA AR RE E  D DE EV VE EL LO OP PE ERR Jun 2017 - Mar 2019\\n• Designed and Developed web reports admin panel.\\n• Developed Windows Form Application with C#.\\n• Developed machine learning pipeline (Linear Regression) from ground up for\\ndetecting corrosion in air Coolers (oil industry).\\nASP MVC WinForm C# SQL Server Windows Server TFS\\nS SE EN NI IO OR R  S SO OF FT TW WA AR RE E  D DE EVVE EL LO OP PE ER R Dec 2016 - Apr 2017\\n• Developed customers panel with Node.js and Ionic2+ for\\ncross-platform applications.\\n• Developed CRM for the company with Node.js and Angular2+.\\n• Designed deployment strategy for releasing products.'),\n",
       " Document(metadata={'producer': 'cairo 1.18.0 (https://cairographics.org)', 'creator': 'Mozilla Firefox 136.0.2', 'creationdate': '2025-03-26T10:09:46+03:30', 'source': 'data\\\\NikiCV.pdf', 'total_pages': 2, 'page': 0, 'page_label': '1'}, page_content='cross-platform applications.\\n• Developed CRM for the company with Node.js and Angular2+.\\n• Designed deployment strategy for releasing products.\\n• Implemented an upload center with web push noti�cations.'),\n",
       " Document(metadata={'producer': 'cairo 1.18.0 (https://cairographics.org)', 'creator': 'Mozilla Firefox 136.0.2', 'creationdate': '2025-03-26T10:09:46+03:30', 'source': 'data\\\\NikiCV.pdf', 'total_pages': 2, 'page': 1, 'page_label': '2'}, page_content='\\uf111 D Da ad de eh h  G Go os st ta ar r \\ue55f \\ue55fS Se em mn na an n, ,  I Ir ra an n\\nNode.js Linux Docker Git Redis MySQL MongoDB Angular2+ Ionic2+ WikiMedia\\nS SO OF FT TW WA AR RE E  E EN NG GI IN NE EE ER R  ((B BA AC CK K- -E EN ND D  D DE EV VE EL LO OP PE ERR) ) Apr 2015 - Oct 2015\\n• Back-end developer for several web and mobile\\napplications.\\n• Ported the \"AMLAKNET\" project to ASP MVC 3.\\n• Designed and developed a cross-platform application called \"TOUCHSI\" for booking\\ncars.\\n• Wrote sample code and library for porting Java and Android push noti�cation.\\nGitLab ASP MVC MSSQL Angular2+ Ionic2+ Windows Server JavaScript HTML CSS')]"
      ]
     },
     "execution_count": 6,
     "metadata": {},
     "output_type": "execute_result"
    }
   ],
   "source": [
    "from langchain_community.document_loaders import PyPDFLoader\n",
    "\n",
    "loader = PyPDFLoader(\"data\\\\NikiCV.pdf\")\n",
    "pages = loader.load_and_split()\n",
    "pages"
   ]
  },
  {
   "cell_type": "code",
   "execution_count": 7,
   "metadata": {},
   "outputs": [
    {
     "name": "stderr",
     "output_type": "stream",
     "text": [
      "c:\\Users\\niki\\Desktop\\AI PROJECTS\\mine_works_with_llms\\.venv\\lib\\site-packages\\pydantic\\_migration.py:283: UserWarning: `pydantic.error_wrappers:ValidationError` has been moved to `pydantic:ValidationError`.\n",
      "  warnings.warn(f'`{import_path}` has been moved to `{new_location}`.')\n"
     ]
    }
   ],
   "source": [
    "from langchain_community.vectorstores import DocArrayInMemorySearch\n",
    "\n",
    "vectorstore = DocArrayInMemorySearch.from_documents(pages, embedding=embeddings)"
   ]
  },
  {
   "cell_type": "code",
   "execution_count": 9,
   "metadata": {},
   "outputs": [
    {
     "data": {
      "text/plain": [
       "[Document(metadata={'producer': 'cairo 1.18.0 (https://cairographics.org)', 'creator': 'Mozilla Firefox 136.0.2', 'creationdate': '2025-03-26T10:09:46+03:30', 'source': 'data\\\\NikiCV.pdf', 'total_pages': 2, 'page': 1, 'page_label': '2'}, page_content='\\uf111 D Da ad de eh h  G Go os st ta ar r \\ue55f \\ue55fS Se em mn na an n, ,  I Ir ra an n\\nNode.js Linux Docker Git Redis MySQL MongoDB Angular2+ Ionic2+ WikiMedia\\nS SO OF FT TW WA AR RE E  E EN NG GI IN NE EE ER R  ((B BA AC CK K- -E EN ND D  D DE EV VE EL LO OP PE ERR) ) Apr 2015 - Oct 2015\\n• Back-end developer for several web and mobile\\napplications.\\n• Ported the \"AMLAKNET\" project to ASP MVC 3.\\n• Designed and developed a cross-platform application called \"TOUCHSI\" for booking\\ncars.\\n• Wrote sample code and library for porting Java and Android push noti�cation.\\nGitLab ASP MVC MSSQL Angular2+ Ionic2+ Windows Server JavaScript HTML CSS'),\n",
       " Document(metadata={'producer': 'cairo 1.18.0 (https://cairographics.org)', 'creator': 'Mozilla Firefox 136.0.2', 'creationdate': '2025-03-26T10:09:46+03:30', 'source': 'data\\\\NikiCV.pdf', 'total_pages': 2, 'page': 0, 'page_label': '1'}, page_content='cross-platform applications.\\n• Developed CRM for the company with Node.js and Angular2+.\\n• Designed deployment strategy for releasing products.\\n• Implemented an upload center with web push noti�cations.'),\n",
       " Document(metadata={'producer': 'cairo 1.18.0 (https://cairographics.org)', 'creator': 'Mozilla Firefox 136.0.2', 'creationdate': '2025-03-26T10:09:46+03:30', 'source': 'data\\\\NikiCV.pdf', 'total_pages': 2, 'page': 0, 'page_label': '1'}, page_content='M MO OH HA AM MM MA AD D  N NI IK KR RA AV VE ES SH H\\nB B. .S Sc c. .\\nC Co om mp pu ut te er r  S Sc ci ie en nc ce e\\nU Un ni iv ve er rs si it ty y  o of f  S Se em mn na an n\\n\\uf073 S Se ep p  2 20 01 12 2  - -  N No ov v  2 20 01 17 7\\n\\uf3c5 S Se em mn na an n, ,  I Ir ra an n\\nR Re el le ev va an nt t  C Co ou ur rs se es s\\n- Data Structures\\n- Algorithm Design\\n- Database Management Systems\\n- Computer Vision\\n- Software Design Methodology\\n• L Li in nu ux x  | |  D Do oc ck ke er r  | |  G Gi it t  , ,\\n• N No od de e. .j js s  | |  J Ja av va aS Sc cr ri ip pt t  , ,\\n• G Go oL La an ng g  , ,\\n• P Py yt th ho on n  , ,\\n• U Un ni it ty y3 3D D  ( (C C# #) )  , ,\\n• N No oS SQ QL L  | |  S SQ QL L  , ,\\n• C CI I/ /C CD D  | |  J Je en nk ki in ns s  , ,\\n• R Re ea ac ct t. .j js s  | |  N Ne ex xt t. .j js s  | |  A An ng gu ul laar rJ Js s  | |  H Hu ug go o  , ,\\n• R Re ea ac ct t  N Na at ti iv ve e  | |  I Io on ni ic c  , ,\\n• H HT TM ML L  | |  C CS SS S\\n\\uf0e0 hootan09@gmail.com\\n\\uf095 (+98) 935 957 8994\\n\\uf3c5 Tehran, Iran\\n\\uf0e1 linkedin.com/in/hootan09\\n\\uf09b github.com/hootan09\\n\\uf0ac NikiTv.ir\\nE ED DU UC CA AT TI IO ON N\\nS SK KI IL LL LS S\\n\\uf111 F Fr re ee el la an nc ce e  S So of ft tw wa ar re e  D De ev veel lo op pe er r \\ue55f \\ue55f\\n\\uf111 A A1 1P Pa ar ra ad di is se e \\ue55f \\ue55fT Te eh hr ra an n, ,  I Ir ra an n\\n\\uf111 G Ge er rm ma an n  L Ll lo oy yd d  ( (O Oi il l  I In nd du usst tr ry y) ) \\ue55f \\ue55fT Te eh hr ra an n, ,  I Ir ra an n\\n\\uf111 P Pe et ti ia ak k  ( (I IS SP P  P Pr ro ov vi id de er r) )\\ue55f \\ue55fT Te eh hr ra an n, ,  I Ir ra an n\\nAs a University of Semnan computer science graduate and current freelance developer, I live\\nand breathe software. As a back-end developer in several companies, I have implemented\\nreal-world industry best practices and turned client/customer concepts into workable\\nmodels.\\nP PE ER RS SO ON NA AL L  I IN NF FO O\\nW WO OR RK K  E EX XP PE ER RI IE EN NC CE E\\nB BA AC CK K- -E EN ND D  A AN ND D  F FR RO ON NTT- -E EN ND D  D DE EV VE EL LO OP PE ER RNov 2020 - Current\\n• Create personal projects with Golang.\\n• Develop personal React Native open source projects.\\n• Switched from WordPress to Hugo static site generator for my personal blog\\n(NikiTv.ir).\\n• Developed three Unity3D games with C# for mobile platforms.\\n• Created \"HorseBook\", a project with Node.js, Angular and Ionic that gives API to\\nmobile applications.\\n• Created personal blog Sample With Node.js and React.js, and ported to Nextjs that\\nsupports testing and linting for CI/CD.\\n• Designed \"KingStone\", a shopping website for clients/customers with Node.js,\\nMongoDB and Linux, that supports API & authentication (RESTful).\\n• Designed and developed this theme (Simple-CV) for creating free resumes & CV with\\nHugo.\\n• Implemented IOT PubSub projects with Mosquitto Broker, Docker Hub and Linux for\\ncontrolling devices in real-time .\\nNode.js GoLang C# JavaScript Linux ESXI Docker React Native MongoDB Git\\nHTML CSS\\nS SE EN NI IO OR R  S SO OF FT TW WA AR RE E  D DE EVVE EL LO OP PE ER R Jul 2019 - Nov 2020\\n• Developed and maintained React Native projects.\\n• Developed Node.js projects with Docker-Compose and MongoDB on Linux.\\n• Developed and Designed VOIP & WebRTC projects for calls services.\\n• Con�gured ESXI and servers for the company.\\n• Developed \"QuizApp\", an online matchmaking questions application with Node.js and\\nSocket.IO.\\nNode.js Linux ESXI Docker React Native MongoDB Git HTML CSS\\nS SO OF FT TW WA AR RE E  D DE EV VE EL LO OP PE ERR Jun 2017 - Mar 2019\\n• Designed and Developed web reports admin panel.\\n• Developed Windows Form Application with C#.\\n• Developed machine learning pipeline (Linear Regression) from ground up for\\ndetecting corrosion in air Coolers (oil industry).\\nASP MVC WinForm C# SQL Server Windows Server TFS\\nS SE EN NI IO OR R  S SO OF FT TW WA AR RE E  D DE EVVE EL LO OP PE ER R Dec 2016 - Apr 2017\\n• Developed customers panel with Node.js and Ionic2+ for\\ncross-platform applications.\\n• Developed CRM for the company with Node.js and Angular2+.\\n• Designed deployment strategy for releasing products.')]"
      ]
     },
     "execution_count": 9,
     "metadata": {},
     "output_type": "execute_result"
    }
   ],
   "source": [
    "retriever = vectorstore.as_retriever()\n",
    "retriever.invoke(\"what is this pdf?\")"
   ]
  },
  {
   "cell_type": "code",
   "execution_count": 10,
   "metadata": {},
   "outputs": [],
   "source": [
    "from operator import itemgetter\n",
    "\n",
    "chain = (\n",
    "    {\n",
    "        \"context\": itemgetter(\"question\") | retriever,\n",
    "        \"question\": itemgetter(\"question\"),\n",
    "    }\n",
    "    | prompt\n",
    "    | model\n",
    "    | parser\n",
    ")"
   ]
  },
  {
   "cell_type": "code",
   "execution_count": 11,
   "metadata": {},
   "outputs": [
    {
     "name": "stdout",
     "output_type": "stream",
     "text": [
      "Question: What is the purpose of the pdf?\n",
      "Answer: The PDF appears to be a resume or CV (Curriculum Vitae) created by Niki. The document provides an overview of Niki's education, work experience, skills, and personal projects. It highlights their expertise in software development, with specific mention of various programming languages, frameworks, and technologies they have worked with. The PDF also includes contact information and links to Niki's online presence.\n",
      "\n",
      "The purpose of the PDF is likely to showcase Niki's qualifications, skills, and experience as a freelance developer and university graduate. It serves as a professional document for potential employers or clients to review Niki's background and consider them for job opportunities or projects.\n",
      "\n",
      "Question: tell me a breif about it?\n",
      "Answer: This is a resume or CV document created by Niki, a freelance developer. The document provides an overview of Niki's education, skills, and professional experience.\n",
      "\n",
      "**Education:**\n",
      "Niki graduated with a degree in Computer Science from the University of Semnan.\n",
      "\n"
     ]
    }
   ],
   "source": [
    "questions = [\n",
    "    \"What is the purpose of the pdf?\",\n",
    "    # \"how many pages is in this pdf?\",\n",
    "    # \"How many coding assignments are there in the program?\",\n",
    "    # \"Is there a program certificate upon completion?\",\n",
    "    # \"What programming language will be used in the pdf?\",\n",
    "    \"tell me a breif about it?\",\n",
    "]\n",
    "\n",
    "for question in questions:\n",
    "    print(f\"Question: {question}\")\n",
    "    print(f\"Answer: {chain.invoke({'question': question})}\")\n",
    "    print()"
   ]
  },
  {
   "cell_type": "code",
   "execution_count": 12,
   "metadata": {},
   "outputs": [
    {
     "data": {
      "text/plain": [
       "[\"The PDF appears to be a resume or CV (Curriculum Vitae) for a developer named Niki. The document showcases Niki's education, skills, work experience, and personal projects. It highlights their expertise in various programming languages and technologies such as Node.js, React Native, Angular, C#, JavaScript, Linux, Docker, MongoDB, Git, HTML, and CSS. The purpose of the PDF is likely to provide a comprehensive overview of Niki's qualifications and experience for potential employers or clients.\",\n",
       " \"This document appears to be a resume or CV for a freelance software developer named Niki. The CV highlights their education at the University of Semnan, where they earned a degree in Computer Science.\\n\\nThe majority of the document focuses on Niki's professional experience as a back-end developer. They have worked with various technologies such as Node.js, Angular, Ionic, React Native, Golang, C#, JavaScript, and MongoDB, among others. Their projects range from developing cross-platform applications to designing web reports admin panels and machine learning pipelines.\\n\\nNiki has also created personal projects, including games developed with Unity3D and a static site generator for their personal blog. They have experience with deployment strategies, containerization using Docker, and continuous integration/continuous delivery (CI/CD) pipelines.\\n\\nThe document includes contact information and links to Niki's LinkedIn, GitHub, and personal website profiles.\\n\\nOverall, this CV showcases Niki's expertise as a versatile and experienced software developer with a strong background in computer science.\"]"
      ]
     },
     "execution_count": 12,
     "metadata": {},
     "output_type": "execute_result"
    }
   ],
   "source": [
    "chain.batch([{\"question\": q} for q in questions])"
   ]
  },
  {
   "cell_type": "code",
   "execution_count": 13,
   "metadata": {},
   "outputs": [
    {
     "name": "stdout",
     "output_type": "stream",
     "text": [
      "The PDF appears to be a resume or CV (Curriculum Vitae) document created by Niki. It outlines their educational background, work experience, skills, and personal projects. The document highlights their expertise as a freelance developer and showcases their diverse range of technical skills in various programming languages, frameworks, and technologies."
     ]
    }
   ],
   "source": [
    "for s in chain.stream({\"question\": \"What is the purpose of the pdf?\"}):\n",
    "    print(s, end=\"\", flush=True)"
   ]
  },
  {
   "cell_type": "code",
   "execution_count": 15,
   "metadata": {},
   "outputs": [],
   "source": [
    "# from langchain_community.document_loaders import WebBaseLoader\n",
    "# from langchain_text_splitters import RecursiveCharacterTextSplitter\n",
    "\n",
    "# loader = WebBaseLoader(\"https://www.nikitv.ir\")\n",
    "# docs = loader.load()\n",
    "# documents = RecursiveCharacterTextSplitter(\n",
    "#     chunk_size=1000, chunk_overlap=200\n",
    "# ).split_documents(docs)\n",
    "\n",
    "# documents"
   ]
  },
  {
   "cell_type": "code",
   "execution_count": 110,
   "metadata": {},
   "outputs": [],
   "source": []
  }
 ],
 "metadata": {
  "kernelspec": {
   "display_name": ".venv",
   "language": "python",
   "name": "python3"
  },
  "language_info": {
   "codemirror_mode": {
    "name": "ipython",
    "version": 3
   },
   "file_extension": ".py",
   "mimetype": "text/x-python",
   "name": "python",
   "nbconvert_exporter": "python",
   "pygments_lexer": "ipython3",
   "version": "3.10.11"
  }
 },
 "nbformat": 4,
 "nbformat_minor": 2
}
