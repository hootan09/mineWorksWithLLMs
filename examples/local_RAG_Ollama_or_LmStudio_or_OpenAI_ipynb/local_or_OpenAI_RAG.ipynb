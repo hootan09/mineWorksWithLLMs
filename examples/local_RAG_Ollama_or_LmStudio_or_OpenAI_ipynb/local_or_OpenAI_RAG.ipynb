{
 "cells": [
  {
   "cell_type": "markdown",
   "metadata": {},
   "source": [
    "# A simple RAG application using open-source models (Ollama/lmStudio) or OpenAI\n",
    "\n",
    "### Note: Given that the LmStudio API calls are designed to work with the OpenAI SDK, we’re able to integrate the OpenAI SDK into LmStudio"
   ]
  },
  {
   "cell_type": "code",
   "execution_count": 37,
   "metadata": {},
   "outputs": [],
   "source": [
    "# TYPE = \"Ollama\"\n",
    "# MODEL = \"gemma2:2b\"\n",
    "\n",
    "\n",
    "# TYPE = \"OpenAI\"\n",
    "# MODEL = \"gpt-3.5-turbo\"\n",
    "# OPENAI_KEY=\"\"\n",
    "\n",
    "\n",
    "TYPE= \"LmStudio\"\n",
    "MODEL = \"gemma-3-4b-it\"\n",
    "EMBED_MODEL = \"nomic-embed-text-v1.5\""
   ]
  },
  {
   "cell_type": "code",
   "execution_count": 38,
   "metadata": {},
   "outputs": [
    {
     "name": "stdout",
     "output_type": "stream",
     "text": [
      "content=\"Why don't scientists trust atoms? \\n\\n... Because they make up everything! 😄 \\n\\n---\\n\\nWould you like to hear another one?\" additional_kwargs={'refusal': None} response_metadata={'token_usage': {'completion_tokens': 30, 'prompt_tokens': 13, 'total_tokens': 43, 'completion_tokens_details': None, 'prompt_tokens_details': None}, 'model_name': 'gemma-3-4b-it', 'system_fingerprint': 'gemma-3-4b-it', 'id': 'chatcmpl-i4qfvd1buil7da2vke1ug8', 'finish_reason': 'stop', 'logprobs': None} id='run-da364829-f597-4964-9953-7f326a01d3a9-0' usage_metadata={'input_tokens': 13, 'output_tokens': 30, 'total_tokens': 43, 'input_token_details': {}, 'output_token_details': {}}\n"
     ]
    }
   ],
   "source": [
    "from langchain_community.llms import Ollama\n",
    "from langchain_community.embeddings import OllamaEmbeddings\n",
    "\n",
    "from langchain_openai.chat_models import ChatOpenAI\n",
    "from langchain_openai.embeddings import OpenAIEmbeddings\n",
    "from openai import OpenAI\n",
    "from typing import List\n",
    "\n",
    "if TYPE == \"OpenAI\":\n",
    "    model = ChatOpenAI(\n",
    "        openai_api_key=OPENAI_KEY,\n",
    "        model=MODEL\n",
    "    )\n",
    "    embeddings = OpenAIEmbeddings()\n",
    "elif TYPE == \"Ollama\":\n",
    "    model = Ollama(model=MODEL)\n",
    "    embeddings = OllamaEmbeddings(model=MODEL)\n",
    "elif TYPE == \"LmStudio\":\n",
    "    model = ChatOpenAI(\n",
    "        openai_api_key=\"lm-studio\",  # Can be any non-empty string for LM Studio\n",
    "        model=MODEL,\n",
    "        base_url=\"http://localhost:1234/v1\"  # Default LM Studio API endpoint\n",
    "    )\n",
    "\n",
    "    # Embeding for LmStudio\n",
    "    class LMSEmbeddingFunction:\n",
    "        def __init__(self):\n",
    "            self.client = OpenAI(\n",
    "                base_url=\"http://localhost:1234/v1\",\n",
    "                api_key=\"lm-studio\"\n",
    "            )\n",
    "        \n",
    "        def embed_documents(self, texts: List[str], model=EMBED_MODEL) -> List[List[float]]:\n",
    "            embeddings = self.client.embeddings.create(input=texts, model=model).data\n",
    "            return [e.embedding for e in embeddings]\n",
    "        \n",
    "        def embed_query(self, text: str, model=EMBED_MODEL) -> List[float]:\n",
    "            embedding = self.client.embeddings.create(input=[text], model=model).data[0].embedding\n",
    "            return embedding\n",
    "\n",
    "    # Create the embedding function\n",
    "    embeddings = LMSEmbeddingFunction()\n",
    "else:\n",
    "    raise ValueError(f\"Invalid Model Selection: {TYPE}\")\n",
    "\n",
    "# Only invoke if model is properly initialized\n",
    "if model is not None:\n",
    "    response = model.invoke(\"Tell me a joke\")\n",
    "    print(response)\n",
    "else:\n",
    "    print(\"Model not initialized\")"
   ]
  },
  {
   "cell_type": "code",
   "execution_count": 39,
   "metadata": {},
   "outputs": [
    {
     "data": {
      "text/plain": [
       "\"Why don't scientists trust atoms? \\n\\n... Because they make up everything! 😄 \\n\\n---\\n\\nWould you like to hear another one?\""
      ]
     },
     "execution_count": 39,
     "metadata": {},
     "output_type": "execute_result"
    }
   ],
   "source": [
    "from langchain_core.output_parsers import StrOutputParser\n",
    "\n",
    "parser = StrOutputParser()\n",
    "\n",
    "chain = model | parser \n",
    "chain.invoke(\"Tell me a joke\")"
   ]
  },
  {
   "cell_type": "code",
   "execution_count": 40,
   "metadata": {},
   "outputs": [
    {
     "data": {
      "text/plain": [
       "'\\nAnswer the question based on the context below. If you can\\'t \\nanswer the question, reply \"I don\\'t know\".\\n\\nContext: Here is some context\\n\\nQuestion: Here is a question\\n'"
      ]
     },
     "execution_count": 40,
     "metadata": {},
     "output_type": "execute_result"
    }
   ],
   "source": [
    "from langchain.prompts import PromptTemplate\n",
    "\n",
    "template = \"\"\"\n",
    "Answer the question based on the context below. If you can't \n",
    "answer the question, reply \"I don't know\".\n",
    "\n",
    "Context: {context}\n",
    "\n",
    "Question: {question}\n",
    "\"\"\"\n",
    "\n",
    "prompt = PromptTemplate.from_template(template)\n",
    "prompt.format(context=\"Here is some context\", question=\"Here is a question\")"
   ]
  },
  {
   "cell_type": "code",
   "execution_count": 41,
   "metadata": {},
   "outputs": [
    {
     "data": {
      "text/plain": [
       "'Santiago'"
      ]
     },
     "execution_count": 41,
     "metadata": {},
     "output_type": "execute_result"
    }
   ],
   "source": [
    "chain = prompt | model | parser\n",
    "\n",
    "chain.invoke({\"context\": \"My parents named me Santiago\", \"question\": \"What's your name'?\"})"
   ]
  },
  {
   "cell_type": "code",
   "execution_count": 42,
   "metadata": {},
   "outputs": [
    {
     "data": {
      "text/plain": [
       "[Document(metadata={'producer': 'cairo 1.18.0 (https://cairographics.org)', 'creator': 'Mozilla Firefox 136.0.2', 'creationdate': '2025-03-26T10:09:46+03:30', 'source': 'data\\\\NikiCV.pdf', 'total_pages': 2, 'page': 0, 'page_label': '1'}, page_content='M MO OH HA AM MM MA AD D  N NI IK KR RA AV VE ES SH H\\nB B. .S Sc c. .\\nC Co om mp pu ut te er r  S Sc ci ie en nc ce e\\nU Un ni iv ve er rs si it ty y  o of f  S Se em mn na an n\\n\\uf073 S Se ep p  2 20 01 12 2  - -  N No ov v  2 20 01 17 7\\n\\uf3c5 S Se em mn na an n, ,  I Ir ra an n\\nR Re el le ev va an nt t  C Co ou ur rs se es s\\n- Data Structures\\n- Algorithm Design\\n- Database Management Systems\\n- Computer Vision\\n- Software Design Methodology\\n• L Li in nu ux x  | |  D Do oc ck ke er r  | |  G Gi it t  , ,\\n• N No od de e. .j js s  | |  J Ja av va aS Sc cr ri ip pt t  , ,\\n• G Go oL La an ng g  , ,\\n• P Py yt th ho on n  , ,\\n• U Un ni it ty y3 3D D  ( (C C# #) )  , ,\\n• N No oS SQ QL L  | |  S SQ QL L  , ,\\n• C CI I/ /C CD D  | |  J Je en nk ki in ns s  , ,\\n• R Re ea ac ct t. .j js s  | |  N Ne ex xt t. .j js s  | |  A An ng gu ul laar rJ Js s  | |  H Hu ug go o  , ,\\n• R Re ea ac ct t  N Na at ti iv ve e  | |  I Io on ni ic c  , ,\\n• H HT TM ML L  | |  C CS SS S\\n\\uf0e0 hootan09@gmail.com\\n\\uf095 (+98) 935 957 8994\\n\\uf3c5 Tehran, Iran\\n\\uf0e1 linkedin.com/in/hootan09\\n\\uf09b github.com/hootan09\\n\\uf0ac NikiTv.ir\\nE ED DU UC CA AT TI IO ON N\\nS SK KI IL LL LS S\\n\\uf111 F Fr re ee el la an nc ce e  S So of ft tw wa ar re e  D De ev veel lo op pe er r \\ue55f \\ue55f\\n\\uf111 A A1 1P Pa ar ra ad di is se e \\ue55f \\ue55fT Te eh hr ra an n, ,  I Ir ra an n\\n\\uf111 G Ge er rm ma an n  L Ll lo oy yd d  ( (O Oi il l  I In nd du usst tr ry y) ) \\ue55f \\ue55fT Te eh hr ra an n, ,  I Ir ra an n\\n\\uf111 P Pe et ti ia ak k  ( (I IS SP P  P Pr ro ov vi id de er r) )\\ue55f \\ue55fT Te eh hr ra an n, ,  I Ir ra an n\\nAs a University of Semnan computer science graduate and current freelance developer, I live\\nand breathe software. As a back-end developer in several companies, I have implemented\\nreal-world industry best practices and turned client/customer concepts into workable\\nmodels.\\nP PE ER RS SO ON NA AL L  I IN NF FO O\\nW WO OR RK K  E EX XP PE ER RI IE EN NC CE E\\nB BA AC CK K- -E EN ND D  A AN ND D  F FR RO ON NTT- -E EN ND D  D DE EV VE EL LO OP PE ER RNov 2020 - Current\\n• Create personal projects with Golang.\\n• Develop personal React Native open source projects.\\n• Switched from WordPress to Hugo static site generator for my personal blog\\n(NikiTv.ir).\\n• Developed three Unity3D games with C# for mobile platforms.\\n• Created \"HorseBook\", a project with Node.js, Angular and Ionic that gives API to\\nmobile applications.\\n• Created personal blog Sample With Node.js and React.js, and ported to Nextjs that\\nsupports testing and linting for CI/CD.\\n• Designed \"KingStone\", a shopping website for clients/customers with Node.js,\\nMongoDB and Linux, that supports API & authentication (RESTful).\\n• Designed and developed this theme (Simple-CV) for creating free resumes & CV with\\nHugo.\\n• Implemented IOT PubSub projects with Mosquitto Broker, Docker Hub and Linux for\\ncontrolling devices in real-time .\\nNode.js GoLang C# JavaScript Linux ESXI Docker React Native MongoDB Git\\nHTML CSS\\nS SE EN NI IO OR R  S SO OF FT TW WA AR RE E  D DE EVVE EL LO OP PE ER R Jul 2019 - Nov 2020\\n• Developed and maintained React Native projects.\\n• Developed Node.js projects with Docker-Compose and MongoDB on Linux.\\n• Developed and Designed VOIP & WebRTC projects for calls services.\\n• Con�gured ESXI and servers for the company.\\n• Developed \"QuizApp\", an online matchmaking questions application with Node.js and\\nSocket.IO.\\nNode.js Linux ESXI Docker React Native MongoDB Git HTML CSS\\nS SO OF FT TW WA AR RE E  D DE EV VE EL LO OP PE ERR Jun 2017 - Mar 2019\\n• Designed and Developed web reports admin panel.\\n• Developed Windows Form Application with C#.\\n• Developed machine learning pipeline (Linear Regression) from ground up for\\ndetecting corrosion in air Coolers (oil industry).\\nASP MVC WinForm C# SQL Server Windows Server TFS\\nS SE EN NI IO OR R  S SO OF FT TW WA AR RE E  D DE EVVE EL LO OP PE ER R Dec 2016 - Apr 2017\\n• Developed customers panel with Node.js and Ionic2+ for\\ncross-platform applications.\\n• Developed CRM for the company with Node.js and Angular2+.\\n• Designed deployment strategy for releasing products.'),\n",
       " Document(metadata={'producer': 'cairo 1.18.0 (https://cairographics.org)', 'creator': 'Mozilla Firefox 136.0.2', 'creationdate': '2025-03-26T10:09:46+03:30', 'source': 'data\\\\NikiCV.pdf', 'total_pages': 2, 'page': 0, 'page_label': '1'}, page_content='cross-platform applications.\\n• Developed CRM for the company with Node.js and Angular2+.\\n• Designed deployment strategy for releasing products.\\n• Implemented an upload center with web push noti�cations.'),\n",
       " Document(metadata={'producer': 'cairo 1.18.0 (https://cairographics.org)', 'creator': 'Mozilla Firefox 136.0.2', 'creationdate': '2025-03-26T10:09:46+03:30', 'source': 'data\\\\NikiCV.pdf', 'total_pages': 2, 'page': 1, 'page_label': '2'}, page_content='\\uf111 D Da ad de eh h  G Go os st ta ar r \\ue55f \\ue55fS Se em mn na an n, ,  I Ir ra an n\\nNode.js Linux Docker Git Redis MySQL MongoDB Angular2+ Ionic2+ WikiMedia\\nS SO OF FT TW WA AR RE E  E EN NG GI IN NE EE ER R  ((B BA AC CK K- -E EN ND D  D DE EV VE EL LO OP PE ERR) ) Apr 2015 - Oct 2015\\n• Back-end developer for several web and mobile\\napplications.\\n• Ported the \"AMLAKNET\" project to ASP MVC 3.\\n• Designed and developed a cross-platform application called \"TOUCHSI\" for booking\\ncars.\\n• Wrote sample code and library for porting Java and Android push noti�cation.\\nGitLab ASP MVC MSSQL Angular2+ Ionic2+ Windows Server JavaScript HTML CSS')]"
      ]
     },
     "execution_count": 42,
     "metadata": {},
     "output_type": "execute_result"
    }
   ],
   "source": [
    "from langchain_community.document_loaders import PyPDFLoader\n",
    "\n",
    "loader = PyPDFLoader(\"data\\\\NikiCV.pdf\")\n",
    "pages = loader.load_and_split()\n",
    "pages"
   ]
  },
  {
   "cell_type": "code",
   "execution_count": 43,
   "metadata": {},
   "outputs": [],
   "source": [
    "from langchain_community.vectorstores import DocArrayInMemorySearch\n",
    "\n",
    "vectorstore = DocArrayInMemorySearch.from_documents(pages, embedding=embeddings)"
   ]
  },
  {
   "cell_type": "code",
   "execution_count": 44,
   "metadata": {},
   "outputs": [
    {
     "data": {
      "text/plain": [
       "[Document(metadata={'producer': 'cairo 1.18.0 (https://cairographics.org)', 'creator': 'Mozilla Firefox 136.0.2', 'creationdate': '2025-03-26T10:09:46+03:30', 'source': 'data\\\\NikiCV.pdf', 'total_pages': 2, 'page': 1, 'page_label': '2'}, page_content='\\uf111 D Da ad de eh h  G Go os st ta ar r \\ue55f \\ue55fS Se em mn na an n, ,  I Ir ra an n\\nNode.js Linux Docker Git Redis MySQL MongoDB Angular2+ Ionic2+ WikiMedia\\nS SO OF FT TW WA AR RE E  E EN NG GI IN NE EE ER R  ((B BA AC CK K- -E EN ND D  D DE EV VE EL LO OP PE ERR) ) Apr 2015 - Oct 2015\\n• Back-end developer for several web and mobile\\napplications.\\n• Ported the \"AMLAKNET\" project to ASP MVC 3.\\n• Designed and developed a cross-platform application called \"TOUCHSI\" for booking\\ncars.\\n• Wrote sample code and library for porting Java and Android push noti�cation.\\nGitLab ASP MVC MSSQL Angular2+ Ionic2+ Windows Server JavaScript HTML CSS'),\n",
       " Document(metadata={'producer': 'cairo 1.18.0 (https://cairographics.org)', 'creator': 'Mozilla Firefox 136.0.2', 'creationdate': '2025-03-26T10:09:46+03:30', 'source': 'data\\\\NikiCV.pdf', 'total_pages': 2, 'page': 0, 'page_label': '1'}, page_content='cross-platform applications.\\n• Developed CRM for the company with Node.js and Angular2+.\\n• Designed deployment strategy for releasing products.\\n• Implemented an upload center with web push noti�cations.'),\n",
       " Document(metadata={'producer': 'cairo 1.18.0 (https://cairographics.org)', 'creator': 'Mozilla Firefox 136.0.2', 'creationdate': '2025-03-26T10:09:46+03:30', 'source': 'data\\\\NikiCV.pdf', 'total_pages': 2, 'page': 0, 'page_label': '1'}, page_content='M MO OH HA AM MM MA AD D  N NI IK KR RA AV VE ES SH H\\nB B. .S Sc c. .\\nC Co om mp pu ut te er r  S Sc ci ie en nc ce e\\nU Un ni iv ve er rs si it ty y  o of f  S Se em mn na an n\\n\\uf073 S Se ep p  2 20 01 12 2  - -  N No ov v  2 20 01 17 7\\n\\uf3c5 S Se em mn na an n, ,  I Ir ra an n\\nR Re el le ev va an nt t  C Co ou ur rs se es s\\n- Data Structures\\n- Algorithm Design\\n- Database Management Systems\\n- Computer Vision\\n- Software Design Methodology\\n• L Li in nu ux x  | |  D Do oc ck ke er r  | |  G Gi it t  , ,\\n• N No od de e. .j js s  | |  J Ja av va aS Sc cr ri ip pt t  , ,\\n• G Go oL La an ng g  , ,\\n• P Py yt th ho on n  , ,\\n• U Un ni it ty y3 3D D  ( (C C# #) )  , ,\\n• N No oS SQ QL L  | |  S SQ QL L  , ,\\n• C CI I/ /C CD D  | |  J Je en nk ki in ns s  , ,\\n• R Re ea ac ct t. .j js s  | |  N Ne ex xt t. .j js s  | |  A An ng gu ul laar rJ Js s  | |  H Hu ug go o  , ,\\n• R Re ea ac ct t  N Na at ti iv ve e  | |  I Io on ni ic c  , ,\\n• H HT TM ML L  | |  C CS SS S\\n\\uf0e0 hootan09@gmail.com\\n\\uf095 (+98) 935 957 8994\\n\\uf3c5 Tehran, Iran\\n\\uf0e1 linkedin.com/in/hootan09\\n\\uf09b github.com/hootan09\\n\\uf0ac NikiTv.ir\\nE ED DU UC CA AT TI IO ON N\\nS SK KI IL LL LS S\\n\\uf111 F Fr re ee el la an nc ce e  S So of ft tw wa ar re e  D De ev veel lo op pe er r \\ue55f \\ue55f\\n\\uf111 A A1 1P Pa ar ra ad di is se e \\ue55f \\ue55fT Te eh hr ra an n, ,  I Ir ra an n\\n\\uf111 G Ge er rm ma an n  L Ll lo oy yd d  ( (O Oi il l  I In nd du usst tr ry y) ) \\ue55f \\ue55fT Te eh hr ra an n, ,  I Ir ra an n\\n\\uf111 P Pe et ti ia ak k  ( (I IS SP P  P Pr ro ov vi id de er r) )\\ue55f \\ue55fT Te eh hr ra an n, ,  I Ir ra an n\\nAs a University of Semnan computer science graduate and current freelance developer, I live\\nand breathe software. As a back-end developer in several companies, I have implemented\\nreal-world industry best practices and turned client/customer concepts into workable\\nmodels.\\nP PE ER RS SO ON NA AL L  I IN NF FO O\\nW WO OR RK K  E EX XP PE ER RI IE EN NC CE E\\nB BA AC CK K- -E EN ND D  A AN ND D  F FR RO ON NTT- -E EN ND D  D DE EV VE EL LO OP PE ER RNov 2020 - Current\\n• Create personal projects with Golang.\\n• Develop personal React Native open source projects.\\n• Switched from WordPress to Hugo static site generator for my personal blog\\n(NikiTv.ir).\\n• Developed three Unity3D games with C# for mobile platforms.\\n• Created \"HorseBook\", a project with Node.js, Angular and Ionic that gives API to\\nmobile applications.\\n• Created personal blog Sample With Node.js and React.js, and ported to Nextjs that\\nsupports testing and linting for CI/CD.\\n• Designed \"KingStone\", a shopping website for clients/customers with Node.js,\\nMongoDB and Linux, that supports API & authentication (RESTful).\\n• Designed and developed this theme (Simple-CV) for creating free resumes & CV with\\nHugo.\\n• Implemented IOT PubSub projects with Mosquitto Broker, Docker Hub and Linux for\\ncontrolling devices in real-time .\\nNode.js GoLang C# JavaScript Linux ESXI Docker React Native MongoDB Git\\nHTML CSS\\nS SE EN NI IO OR R  S SO OF FT TW WA AR RE E  D DE EVVE EL LO OP PE ER R Jul 2019 - Nov 2020\\n• Developed and maintained React Native projects.\\n• Developed Node.js projects with Docker-Compose and MongoDB on Linux.\\n• Developed and Designed VOIP & WebRTC projects for calls services.\\n• Con�gured ESXI and servers for the company.\\n• Developed \"QuizApp\", an online matchmaking questions application with Node.js and\\nSocket.IO.\\nNode.js Linux ESXI Docker React Native MongoDB Git HTML CSS\\nS SO OF FT TW WA AR RE E  D DE EV VE EL LO OP PE ERR Jun 2017 - Mar 2019\\n• Designed and Developed web reports admin panel.\\n• Developed Windows Form Application with C#.\\n• Developed machine learning pipeline (Linear Regression) from ground up for\\ndetecting corrosion in air Coolers (oil industry).\\nASP MVC WinForm C# SQL Server Windows Server TFS\\nS SE EN NI IO OR R  S SO OF FT TW WA AR RE E  D DE EVVE EL LO OP PE ER R Dec 2016 - Apr 2017\\n• Developed customers panel with Node.js and Ionic2+ for\\ncross-platform applications.\\n• Developed CRM for the company with Node.js and Angular2+.\\n• Designed deployment strategy for releasing products.')]"
      ]
     },
     "execution_count": 44,
     "metadata": {},
     "output_type": "execute_result"
    }
   ],
   "source": [
    "retriever = vectorstore.as_retriever()\n",
    "retriever.invoke(\"what is this pdf?\")"
   ]
  },
  {
   "cell_type": "code",
   "execution_count": 45,
   "metadata": {},
   "outputs": [],
   "source": [
    "from operator import itemgetter\n",
    "\n",
    "chain = (\n",
    "    {\n",
    "        \"context\": itemgetter(\"question\") | retriever,\n",
    "        \"question\": itemgetter(\"question\"),\n",
    "    }\n",
    "    | prompt\n",
    "    | model\n",
    "    | parser\n",
    ")"
   ]
  },
  {
   "cell_type": "code",
   "execution_count": 46,
   "metadata": {},
   "outputs": [
    {
     "name": "stdout",
     "output_type": "stream",
     "text": [
      "Question: What is the purpose of the pdf?\n",
      "Answer: Based on the provided document metadata and page content, the PDF appears to be a Curriculum Vitae (CV) or resume for someone named Hootan. It details their education, skills, work experience, and contact information.\n",
      "\n",
      "Question: tell me a breif about it?\n",
      "Answer: This document is a resume/CV for Hootan Azimi, a freelance software developer. He has experience as a back-end developer across various projects, including CRM development, product deployments, and cross-platform application design. His skills encompass technologies like Node.js, Angular2+, React Native, GoLang, C#, Linux, Docker, MongoDB, and more. He’s also worked on personal projects such as game development (Unity3D) and a static website generator (Hugo).\n",
      "\n"
     ]
    }
   ],
   "source": [
    "questions = [\n",
    "    \"What is the purpose of the pdf?\",\n",
    "    # \"how many pages is in this pdf?\",\n",
    "    # \"How many coding assignments are there in the program?\",\n",
    "    # \"Is there a program certificate upon completion?\",\n",
    "    # \"What programming language will be used in the pdf?\",\n",
    "    \"tell me a breif about it?\",\n",
    "]\n",
    "\n",
    "for question in questions:\n",
    "    print(f\"Question: {question}\")\n",
    "    print(f\"Answer: {chain.invoke({'question': question})}\")\n",
    "    print()"
   ]
  },
  {
   "cell_type": "code",
   "execution_count": 47,
   "metadata": {},
   "outputs": [
    {
     "data": {
      "text/plain": [
       "['Based on the provided document metadata and page content, the PDF appears to be a Curriculum Vitae (CV) or resume for someone named Hootan. It details their education, skills, work experience, and contact information.',\n",
       " 'This document is a resume/CV for Hootan Azimi, a freelance software developer. He has experience as a back-end developer working on various projects including CRM systems, web applications (like \"TOUCHSI\" and \"KingStone\"), mobile apps (using React Native and Unity3D), and IoT projects. His skills include Node.js, GoLang, C#, JavaScript, Linux, Docker, MongoDB, Git, and several front-end technologies like Angular2+, Ionic2+, HTML, and CSS. He has a computer science degree from the University of Semnan and has worked on personal projects alongside his freelance work.']"
      ]
     },
     "execution_count": 47,
     "metadata": {},
     "output_type": "execute_result"
    }
   ],
   "source": [
    "chain.batch([{\"question\": q} for q in questions])"
   ]
  },
  {
   "cell_type": "code",
   "execution_count": 48,
   "metadata": {},
   "outputs": [
    {
     "name": "stdout",
     "output_type": "stream",
     "text": [
      "Based on the provided document metadata and page content, the PDF appears to be a Curriculum Vitae (CV) or resume for someone named Hootan. It details their education, skills, work experience, and contact information."
     ]
    }
   ],
   "source": [
    "for s in chain.stream({\"question\": \"What is the purpose of the pdf?\"}):\n",
    "    print(s, end=\"\", flush=True)"
   ]
  },
  {
   "cell_type": "code",
   "execution_count": 109,
   "metadata": {},
   "outputs": [
    {
     "data": {
      "text/plain": [
       "[Document(page_content='Building Machine Learning Systems That Don\\'t Suck\"This is the best machine learning course I\\'ve done ever. Worth every cent.\"Jose Reyes, AI/ML at Cevo AustraliaBuilding Machine Learning Systems That Don\\'t SuckA live, interactive program that\\'ll help you build production-ready machine learning systems from the ground up.Next cohort:\\xa0April 8 - 25, 2024Check the schedule for more details about upcoming cohorts.Register nowLearn how to design, build, deploy, and scale machine learning systems to solve real-world problems.I\\'ll lose my mind if I see another book or course teaching people the same basic ideas for the hundredth time. Most people are stuck in beginner mode, and finding help to solve real-world problems is hard.I want to change that.I started writing software 30 years ago. I\\'ve written pipelines and trained models for some of the largest companies in the world. I want to show you how to do the same.This is the class I wish I had taken when I started.This program will help you', metadata={'source': 'https://www.ml.school', 'title': \"Building Machine Learning Systems That Don't Suck\", 'description': \"A live, interactive program that'll help you build production-ready machine learning systems from the ground up.\", 'language': 'en'}),\n",
       " Document(page_content=\"pipelines and trained models for some of the largest companies in the world. I want to show you how to do the same.This is the class I wish I had taken when I started.This program will help you unlearn what you think machine learning is. It's a practical, hands-on class where you'll learn from years of experience and real-world examples.When you join, you get lifetime access to the following:18 hours of live, interactive sessions. We'll use this time to discuss the first principles behind building machine learning systems.10 hours of step-by-step coding instructions. These practical sessions will show you how to build an end-to-end system from scratch.A final project where you'll build a complete solution and receive direct feedback on your work.30 coding assignments and practice questions.The entire source code of a working production system. It's yours. You can change and use it as you see fit.A private community where you'll collaborate with thousands of people from different\", metadata={'source': 'https://www.ml.school', 'title': \"Building Machine Learning Systems That Don't Suck\", 'description': \"A live, interactive program that'll help you build production-ready machine learning systems from the ground up.\", 'language': 'en'}),\n",
       " Document(page_content=\"entire source code of a working production system. It's yours. You can change and use it as you see fit.A private community where you'll collaborate with thousands of people from different backgrounds.Direct access to your instructor.Lifetime access to every past and future cohort.Program certificate upon completion.And the best part is that you only pay once to join. There are no monthly fees. No annual fees. No hidden costs. You pay once to join and benefit forever until the end of time.The program won't be easy. It'll take time and effort. But if you want to use machine learning to solve real-world problems, this is the class you don't want to miss.Who Is This Program For?This is a practical, hands-on program for technical professionals who are ready to put in the work.This program is for software engineers, data scientists, data analysts, machine learning engineers, technical managers, and anyone anyone who wants to use machine learning to solve real-world problems.Here are the\", metadata={'source': 'https://www.ml.school', 'title': \"Building Machine Learning Systems That Don't Suck\", 'description': \"A live, interactive program that'll help you build production-ready machine learning systems from the ground up.\", 'language': 'en'}),\n",
       " Document(page_content='for software engineers, data scientists, data analysts, machine learning engineers, technical managers, and anyone anyone who wants to use machine learning to solve real-world problems.Here are the criteria to succeed in the program:You have experience writing code. We\\'ll use Python throughout the class, but you won\\'t have any problems if you know any other language.You are familiar with basic machine learning terminology. This is not an introductory class. We\\'ll move quickly over the basics to focus on the fundamental ideas that make systems work.You are ready to put in the work to succeed.\"I have learned a ton from Santiago in his class and it was actually what helped inspire me and get into the MLOps work that I\\'m doing now. Truly one of the most helpful online courses for doing real, full-scale machine learning.\"Brian H. HoughSoftware EngineerWhat Will You Learn?You\\'ll come out with practical skills and insights into what it takes to build systems that work in the real world.Here', metadata={'source': 'https://www.ml.school', 'title': \"Building Machine Learning Systems That Don't Suck\", 'description': \"A live, interactive program that'll help you build production-ready machine learning systems from the ground up.\", 'language': 'en'}),\n",
       " Document(page_content='full-scale machine learning.\"Brian H. HoughSoftware EngineerWhat Will You Learn?You\\'ll come out with practical skills and insights into what it takes to build systems that work in the real world.Here is a summary of what makes this program unique:You\\'ll design and write the code to build an end-to-end machine learning system starting from scratch.You\\'ll learn best practices to tackle the most significant challenges machine learning engineers face to build, evaluate, run, monitor, and maintain machine learning systems in real-world scenarios.You\\'ll learn how to use techniques like active learning, distributed training, adversarial validation, human-in-the-loop deployments, model compression, test-time augmentation, testing in production, among many others.You\\'ll learn how to create training, deploying, monitoring, and inference pipelines using Amazon SageMaker and open-source tools.Forget about theoretical concepts. This program will show you some of the things I\\'ve learned from', metadata={'source': 'https://www.ml.school', 'title': \"Building Machine Learning Systems That Don't Suck\", 'description': \"A live, interactive program that'll help you build production-ready machine learning systems from the ground up.\", 'language': 'en'}),\n",
       " Document(page_content=\"deploying, monitoring, and inference pipelines using Amazon SageMaker and open-source tools.Forget about theoretical concepts. This program will show you some of the things I've learned from real-life examples I've built during more than 30 years in the industry.Check the program syllabus\\xa0→Real-life examples and case studiesLearn from practical experience building machine learning systems that work in the real world.Live, interactive sessionsAsk questions and interact with the instructor and other students in real time.Code walkthroughsStep by step coding instructions to help you build a production system from scratch.Upcoming ScheduleEvery iteration of the program gives you 18 hours of hands-on, live training spread over 3 weeks.Here are the upcoming cohorts:Cohort 12: April 8 - April 25, 2024. 10:00 AM EDTCohort 13: May 6 - May 23, 2024. 2:00 PM EDTCohort 14: July 1 - July 18, 2024. 4:00 AM EDTLive sessions will take place every Monday and Thursday at the same time. On Wednesdays,\", metadata={'source': 'https://www.ml.school', 'title': \"Building Machine Learning Systems That Don't Suck\", 'description': \"A live, interactive program that'll help you build production-ready machine learning systems from the ground up.\", 'language': 'en'}),\n",
       " Document(page_content='2024. 10:00 AM EDTCohort 13: May 6 - May 23, 2024. 2:00 PM EDTCohort 14: July 1 - July 18, 2024. 4:00 AM EDTLive sessions will take place every Monday and Thursday at the same time. On Wednesdays, we\\'ll host office hours when you can bring your questions projects or anything else you want to discuss.Monday: Live session. 2 hours.Tuesday: Individual work.Wednesday: Optional office hours.Thursday: Live session. 2 hours.Friday: Individual work.Do not wait for a specific cohort to join the program. You have lifetime access to every past and future cohort, and the sooner you join, the more time you have to prepare.Every session is recorded. You can attend live or watch the recorded version later.\"This is one of the best classes I\\'ve ever purchased over the internet. Santiago is a terrific teacher. The ability he has to share knowledge is fantastic. I recommend this course. Worth 10x what he\\'s charging.\"Sal DiStefanoReady To Join The Program?Get lifetime access to every future cohort. No', metadata={'source': 'https://www.ml.school', 'title': \"Building Machine Learning Systems That Don't Suck\", 'description': \"A live, interactive program that'll help you build production-ready machine learning systems from the ground up.\", 'language': 'en'}),\n",
       " Document(page_content='The ability he has to share knowledge is fantastic. I recommend this course. Worth 10x what he\\'s charging.\"Sal DiStefanoReady To Join The Program?Get lifetime access to every future cohort. No monthly fees. No annual fees. No hidden costs.Lifetime access to the programPay once to join and benefit from every past and future cohort. You can participate in as many iterations as you\\'d like. No restrictions.$45018 hours of live, interactive sessions10 hours of step-by-step coding instructions30 coding assignments and practice questionsComplete source code of a working production systemBonus: Course to learn how to start freelancing on UpworkMembership access to a private communityDirect access to your instructorRegister nowProgram SyllabusThis program will teach you the practical skills and insights that will help you build machine learning systems.Here are the contents of the six live sessions of the program:Session 1 - How To Start (Almost) Any ProjectWhat makes production machine', metadata={'source': 'https://www.ml.school', 'title': \"Building Machine Learning Systems That Don't Suck\", 'description': \"A live, interactive program that'll help you build production-ready machine learning systems from the ground up.\", 'language': 'en'}),\n",
       " Document(page_content=\"and insights that will help you build machine learning systems.Here are the contents of the six live sessions of the program:Session 1 - How To Start (Almost) Any ProjectWhat makes production machine learning different from what you've learned.The strategy to solve the right problem using the right solution.Critical questions to ask before starting any project.Problem framing, inversion, and the haystack principle for building successful applications.The first rule of machine learning engineering and how to start building.Data collection strategies. A technique to determine how much data you need.The problem of selection bias and how to deal with it.Labeling data. Human annotations, natural labels and weak supervision.Active learning using the uncertainty and diversity sampling strategies.Session 2 - How to Build a ModelThe role of data cleaning and feature engineering to build better models.Turning data into numbers using vectorization techniques.Producing homogeneous features using\", metadata={'source': 'https://www.ml.school', 'title': \"Building Machine Learning Systems That Don't Suck\", 'description': \"A live, interactive program that'll help you build production-ready machine learning systems from the ground up.\", 'language': 'en'}),\n",
       " Document(page_content='2 - How to Build a ModelThe role of data cleaning and feature engineering to build better models.Turning data into numbers using vectorization techniques.Producing homogeneous features using normalization and standardization.Handling and interpreting missing values using imputation techniques.The approach to choosing the best model to solve any problem.Random baselines and the zero-rule algorithm.How to use overfitting to build models that don\\'t suck.Hyperparameter tuning and experiment tracking.Measuring the quality of your holdout set.An introduction to distributed training using data parallelism and model parallelism.See the remaining sessions\"This is an awesome course! This is my second round and I continue learning. I recommend it with complete confidence.\"Juan OlanoMachine Learning EngineerFrequently Asked QuestionsIf you can\\'t find the answer to your question, please reach out on social media and I\\'ll be happy to help.How long will it take to complete the program?If you are', metadata={'source': 'https://www.ml.school', 'title': \"Building Machine Learning Systems That Don't Suck\", 'description': \"A live, interactive program that'll help you build production-ready machine learning systems from the ground up.\", 'language': 'en'}),\n",
       " Document(page_content=\"EngineerFrequently Asked QuestionsIf you can't find the answer to your question, please reach out on social media and I'll be happy to help.How long will it take to complete the program?If you are attending the live sessions, you should set aside a minimum of 4 hours every week during the three weeks of the program. This commitment will be enough for engineer leaders or anyone not interested in the coding portion of the program.Those interested in implementing the concepts discussed in class should set aside 2 to 4 hours weekly to complete the code walkthroughs and work on the assignments.Are live sessions recorded?Yes, we record every live session. You can decide when to attend classes live or catch up asynchronously later using the recording.I'm a complete beginner. Is this program helpful for me?This program is not an introduction to machine learning.While we'll discuss many fundamental ideas behind machine learning, beginners will find the sessions go much faster than what's\", metadata={'source': 'https://www.ml.school', 'title': \"Building Machine Learning Systems That Don't Suck\", 'description': \"A live, interactive program that'll help you build production-ready machine learning systems from the ground up.\", 'language': 'en'}),\n",
       " Document(page_content='helpful for me?This program is not an introduction to machine learning.While we\\'ll discuss many fundamental ideas behind machine learning, beginners will find the sessions go much faster than what\\'s optimal for them.What does \"lifetime access\" mean?You only pay once to join the program and get immediate access to every past, present, and future cohort.Every new iteration of the program is better than the ones before. Many students take classes once and then join a later cohort to benefit from the updates.The lifetime access removes any pressure from having to complete the program when life gets in the way.Hey! I\\'m Santiago.I\\'m the instructor of the program.I\\'m a machine learning engineer with over two decades of experience building and scaling enterprise software and machine learning systems.I love neural networks. I love to make them work at scale.From 2009 to 2023, I built products for Disney, Boston Dynamics, IBM, Dell, G4S, Anheuser-Busch, and NextEra Energy, among other clients.', metadata={'source': 'https://www.ml.school', 'title': \"Building Machine Learning Systems That Don't Suck\", 'description': \"A live, interactive program that'll help you build production-ready machine learning systems from the ground up.\", 'language': 'en'}),\n",
       " Document(page_content=\"love neural networks. I love to make them work at scale.From 2009 to 2023, I built products for Disney, Boston Dynamics, IBM, Dell, G4S, Anheuser-Busch, and NextEra Energy, among other clients. I learned about trade-offs and how to create products that work.I started this program in March 2023. Since then, thousands of students have graduated, and I can't wait to meet you in class.Copyright © 2024 Tideily LLCAll rights reserved.\", metadata={'source': 'https://www.ml.school', 'title': \"Building Machine Learning Systems That Don't Suck\", 'description': \"A live, interactive program that'll help you build production-ready machine learning systems from the ground up.\", 'language': 'en'})]"
      ]
     },
     "execution_count": 109,
     "metadata": {},
     "output_type": "execute_result"
    }
   ],
   "source": [
    "# from langchain_community.document_loaders import WebBaseLoader\n",
    "# from langchain_text_splitters import RecursiveCharacterTextSplitter\n",
    "\n",
    "# loader = WebBaseLoader(\"https://www.ml.school\")\n",
    "# docs = loader.load()\n",
    "# documents = RecursiveCharacterTextSplitter(\n",
    "#     chunk_size=1000, chunk_overlap=200\n",
    "# ).split_documents(docs)\n",
    "\n",
    "# documents"
   ]
  },
  {
   "cell_type": "code",
   "execution_count": 110,
   "metadata": {},
   "outputs": [],
   "source": []
  }
 ],
 "metadata": {
  "kernelspec": {
   "display_name": ".venv",
   "language": "python",
   "name": "python3"
  },
  "language_info": {
   "codemirror_mode": {
    "name": "ipython",
    "version": 3
   },
   "file_extension": ".py",
   "mimetype": "text/x-python",
   "name": "python",
   "nbconvert_exporter": "python",
   "pygments_lexer": "ipython3",
   "version": "3.10.11"
  }
 },
 "nbformat": 4,
 "nbformat_minor": 2
}
